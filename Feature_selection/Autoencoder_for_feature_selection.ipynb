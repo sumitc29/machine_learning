{
  "nbformat": 4,
  "nbformat_minor": 0,
  "metadata": {
    "colab": {
      "name": "Autoencoder for feature selection",
      "provenance": []
    },
    "kernelspec": {
      "name": "python3",
      "display_name": "Python 3"
    }
  },
  "cells": [
    {
      "cell_type": "markdown",
      "metadata": {
        "id": "rn3W9aUQLMvK",
        "colab_type": "text"
      },
      "source": [
        "# **Introduction**\n",
        "* Auto Encoders are is a type of artificial neural network used to learn efficient data patterns in an unsupervised manner. An Auto Encoder ideally consists of an encoder and decoder.\n",
        "* The Neural Network is designed compress data using the Encoding level. The Decoder will try to uncompress the data to the original dimension"
      ]
    },
    {
      "cell_type": "markdown",
      "metadata": {
        "id": "OzMfVHSyQnp0",
        "colab_type": "text"
      },
      "source": [
        "**Pros**\n",
        "\n",
        "* Easy and simple to build\n",
        "* Fast\n",
        "\n",
        "**cons**\n",
        "\n",
        "Here dimention of the compressed variable is supposed to be decided by you."
      ]
    },
    {
      "cell_type": "markdown",
      "metadata": {
        "id": "iOZqoKCAMbSO",
        "colab_type": "text"
      },
      "source": [
        "Encoder and decoder are vice versa terms where encoder can be used to reduce dimentionality and decoder to regain original form .\n",
        "\n",
        "Since here we are using autoencoder only to reduce the dimentionality of the data\n",
        "\n",
        "MOreover It is an unsupervised kind of approach hence no labels are needed."
      ]
    },
    {
      "cell_type": "code",
      "metadata": {
        "id": "_45QbWlIGR19",
        "colab_type": "code",
        "colab": {}
      },
      "source": [
        "\"\"\"loading iris data\"\"\"\n",
        "from sklearn import datasets\n",
        "import pandas as pd\n",
        "\n",
        "iris = datasets.load_iris()\n",
        "X = iris.data[:, :]\n",
        "y = iris.target\n"
      ],
      "execution_count": 0,
      "outputs": []
    },
    {
      "cell_type": "code",
      "metadata": {
        "id": "aYe8H5HUPt-R",
        "colab_type": "code",
        "colab": {}
      },
      "source": [
        "#from sklearn.preprocessing import minmax_scale\n",
        "#x_scaled =  minmax_scale(X, axis = 0)"
      ],
      "execution_count": 0,
      "outputs": []
    },
    {
      "cell_type": "code",
      "metadata": {
        "id": "eDOI3GI2MSMr",
        "colab_type": "code",
        "colab": {}
      },
      "source": [
        "\n",
        "\n",
        "available_col = X.shape[1]\n",
        "encoding_dim = 2\n"
      ],
      "execution_count": 0,
      "outputs": []
    },
    {
      "cell_type": "code",
      "metadata": {
        "id": "6NOOXdPPM2Zs",
        "colab_type": "code",
        "colab": {
          "base_uri": "https://localhost:8080/",
          "height": 119
        },
        "outputId": "0ee1343b-2e8c-4f7f-9147-4c0b36cc619c"
      },
      "source": [
        "\"\"\"creating encoder and decoder model\"\"\"\n",
        "from keras.layers import Input, Dense\n",
        "from keras.models import Model\n",
        "\n",
        "\"\"\"reshaping input size\"\"\"\n",
        "input_dim = Input(shape = (available_col, ))\n",
        "\n",
        "encoded1 = Dense(4, activation = 'relu')(input_dim)\n",
        "encoded2 = Dense(3, activation = 'relu')(encoded1)\n",
        "encoded3 = Dense(encoding_dim, activation = 'relu')(encoded2)\n",
        "\n",
        "encoder = Model(inputs = input_dim, outputs = encoded3)\n",
        "encoded_input = Input(shape = (encoding_dim, ))"
      ],
      "execution_count": 11,
      "outputs": [
        {
          "output_type": "stream",
          "text": [
            "WARNING:tensorflow:From /usr/local/lib/python3.6/dist-packages/keras/backend/tensorflow_backend.py:66: The name tf.get_default_graph is deprecated. Please use tf.compat.v1.get_default_graph instead.\n",
            "\n",
            "WARNING:tensorflow:From /usr/local/lib/python3.6/dist-packages/keras/backend/tensorflow_backend.py:541: The name tf.placeholder is deprecated. Please use tf.compat.v1.placeholder instead.\n",
            "\n",
            "WARNING:tensorflow:From /usr/local/lib/python3.6/dist-packages/keras/backend/tensorflow_backend.py:4432: The name tf.random_uniform is deprecated. Please use tf.random.uniform instead.\n",
            "\n"
          ],
          "name": "stdout"
        }
      ]
    },
    {
      "cell_type": "code",
      "metadata": {
        "id": "uiSFSVGTO-HB",
        "colab_type": "code",
        "colab": {}
      },
      "source": [
        "encoded_train = pd.DataFrame(encoder.predict(X))\n"
      ],
      "execution_count": 0,
      "outputs": []
    }
  ]
}