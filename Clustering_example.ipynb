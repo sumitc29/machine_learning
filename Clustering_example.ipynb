{
  "nbformat": 4,
  "nbformat_minor": 0,
  "metadata": {
    "colab": {
      "name": "Clustering example.ipynb",
      "provenance": [],
      "authorship_tag": "ABX9TyMLdPmHikhqP2/zgI8Rf+aJ",
      "include_colab_link": true
    },
    "kernelspec": {
      "name": "python3",
      "display_name": "Python 3"
    }
  },
  "cells": [
    {
      "cell_type": "markdown",
      "metadata": {
        "id": "view-in-github",
        "colab_type": "text"
      },
      "source": [
        "<a href=\"https://colab.research.google.com/github/sumitc29/machine_learning/blob/master/Clustering_example.ipynb\" target=\"_parent\"><img src=\"https://colab.research.google.com/assets/colab-badge.svg\" alt=\"Open In Colab\"/></a>"
      ]
    },
    {
      "cell_type": "markdown",
      "metadata": {
        "id": "TRWGuZNnAvrI",
        "colab_type": "text"
      },
      "source": [
        "**Clustering Problem**"
      ]
    },
    {
      "cell_type": "code",
      "metadata": {
        "id": "dwzBD-oU0wTr",
        "colab_type": "code",
        "colab": {}
      },
      "source": [
        "from sklearn.preprocessing import MinMaxScaler\n",
        "from sklearn.cluster import KMeans\n",
        "from matplotlib import pyplot as plt\n"
      ],
      "execution_count": 0,
      "outputs": []
    },
    {
      "cell_type": "code",
      "metadata": {
        "id": "3-gUXBIeA0hM",
        "colab_type": "code",
        "colab": {}
      },
      "source": [
        "#data reading and analysis\n",
        "import pandas as pd\n",
        "data = pd.read_csv(\"/content/Analytics Test Dataset.csv\")"
      ],
      "execution_count": 0,
      "outputs": []
    },
    {
      "cell_type": "code",
      "metadata": {
        "id": "eeJ6JYLJV0sL",
        "colab_type": "code",
        "outputId": "f0283a76-82fd-4e69-a5c2-a070dfd832aa",
        "colab": {
          "base_uri": "https://localhost:8080/",
          "height": 198
        }
      },
      "source": [
        "temp= data\n",
        "data.head(5)"
      ],
      "execution_count": 0,
      "outputs": [
        {
          "output_type": "execute_result",
          "data": {
            "text/html": [
              "<div>\n",
              "<style scoped>\n",
              "    .dataframe tbody tr th:only-of-type {\n",
              "        vertical-align: middle;\n",
              "    }\n",
              "\n",
              "    .dataframe tbody tr th {\n",
              "        vertical-align: top;\n",
              "    }\n",
              "\n",
              "    .dataframe thead th {\n",
              "        text-align: right;\n",
              "    }\n",
              "</style>\n",
              "<table border=\"1\" class=\"dataframe\">\n",
              "  <thead>\n",
              "    <tr style=\"text-align: right;\">\n",
              "      <th></th>\n",
              "      <th>utc_timestamp</th>\n",
              "      <th>User_ID</th>\n",
              "      <th>Revenue</th>\n",
              "      <th>Player Level</th>\n",
              "      <th>Pack_ID</th>\n",
              "      <th>CountryCode</th>\n",
              "    </tr>\n",
              "  </thead>\n",
              "  <tbody>\n",
              "    <tr>\n",
              "      <th>0</th>\n",
              "      <td>1468617177</td>\n",
              "      <td>6.129880e+18</td>\n",
              "      <td>793</td>\n",
              "      <td>14</td>\n",
              "      <td>bundle3b</td>\n",
              "      <td>fr</td>\n",
              "    </tr>\n",
              "    <tr>\n",
              "      <th>1</th>\n",
              "      <td>1468617210</td>\n",
              "      <td>8.406580e+18</td>\n",
              "      <td>698</td>\n",
              "      <td>51</td>\n",
              "      <td>vipoffer1</td>\n",
              "      <td>VE</td>\n",
              "    </tr>\n",
              "    <tr>\n",
              "      <th>2</th>\n",
              "      <td>1468622155</td>\n",
              "      <td>5.284030e+18</td>\n",
              "      <td>234</td>\n",
              "      <td>49</td>\n",
              "      <td>goldentickets2</td>\n",
              "      <td>GB</td>\n",
              "    </tr>\n",
              "    <tr>\n",
              "      <th>3</th>\n",
              "      <td>1468623026</td>\n",
              "      <td>1.530870e+19</td>\n",
              "      <td>1542</td>\n",
              "      <td>40</td>\n",
              "      <td>vipoffer2</td>\n",
              "      <td>US</td>\n",
              "    </tr>\n",
              "    <tr>\n",
              "      <th>4</th>\n",
              "      <td>1468621477</td>\n",
              "      <td>1.439260e+19</td>\n",
              "      <td>209</td>\n",
              "      <td>43</td>\n",
              "      <td>goldentickets2</td>\n",
              "      <td>US</td>\n",
              "    </tr>\n",
              "  </tbody>\n",
              "</table>\n",
              "</div>"
            ],
            "text/plain": [
              "   utc_timestamp       User_ID  ...         Pack_ID  CountryCode\n",
              "0     1468617177  6.129880e+18  ...        bundle3b           fr\n",
              "1     1468617210  8.406580e+18  ...       vipoffer1           VE\n",
              "2     1468622155  5.284030e+18  ...  goldentickets2           GB\n",
              "3     1468623026  1.530870e+19  ...       vipoffer2           US\n",
              "4     1468621477  1.439260e+19  ...  goldentickets2           US\n",
              "\n",
              "[5 rows x 6 columns]"
            ]
          },
          "metadata": {
            "tags": []
          },
          "execution_count": 48
        }
      ]
    },
    {
      "cell_type": "code",
      "metadata": {
        "id": "ybMXgKEZLZef",
        "colab_type": "code",
        "outputId": "f1ff0d0b-757d-42dd-9ea5-2ede498d3b42",
        "colab": {
          "base_uri": "https://localhost:8080/",
          "height": 1000
        }
      },
      "source": [
        "\n",
        "#packid vs revenue\n",
        "plt.figure(figsize=(13,10))\n",
        "data.Revenue.hist(bins = 100)\n",
        "plt.show()\n",
        "\n",
        "#player_level vs revenue\n",
        "plt.figure(figsize=(13,10))\n",
        "data.groupby(['Player Level']).sum()['Revenue'].sort_values().plot(kind= 'bar')\n",
        "plt.xticks(rotation=45)\n",
        "plt.show()\n",
        "\n",
        "#packid vs revenue\n",
        "plt.figure(figsize=(13,10))\n",
        "data.groupby(['Pack_ID']).sum()['Revenue'].sort_values().plot(kind= 'bar')\n",
        "plt.figure(figsize=(3,4))\n",
        "plt.show()\n"
      ],
      "execution_count": 0,
      "outputs": [
        {
          "output_type": "display_data",
          "data": {
            "image/png": "[encoded data removed]",
            "text/plain": [
              "<Figure size 936x720 with 1 Axes>"
            ]
          },
          "metadata": {
            "tags": []
          }
        },
        {
          "output_type": "display_data",
          "data": {
            "image/png": "[encoded data removed]",
            "text/plain": [
              "<Figure size 936x720 with 1 Axes>"
            ]
          },
          "metadata": {
            "tags": []
          }
        },
        {
          "output_type": "display_data",
          "data": {
            "image/png": "[encoded data removed]",
            "text/plain": [
              "<Figure size 936x720 with 1 Axes>"
            ]
          },
          "metadata": {
            "tags": []
          }
        },
        {
          "output_type": "display_data",
          "data": {
            "text/plain": [
              "<Figure size 216x288 with 0 Axes>"
            ]
          },
          "metadata": {
            "tags": []
          }
        }
      ]
    },
    {
      "cell_type": "markdown",
      "metadata": {
        "id": "KL383W1Iz_ee",
        "colab_type": "text"
      },
      "source": [
        "**clustering can be done in 2 ways**\n",
        "* with respect to revenue\n",
        "* with respect to PLayer_level, Package_ID and country code.\n",
        "\n",
        "Both are illustrated  "
      ]
    },
    {
      "cell_type": "markdown",
      "metadata": {
        "id": "1vojlS8u0ktx",
        "colab_type": "text"
      },
      "source": [
        "## **with respect to revenue**"
      ]
    },
    {
      "cell_type": "code",
      "metadata": {
        "id": "jokxmEVj5f6o",
        "colab_type": "code",
        "outputId": "5c92e8e9-7139-4d4a-a137-797856b22e97",
        "colab": {
          "base_uri": "https://localhost:8080/",
          "height": 295
        }
      },
      "source": [
        "#finding k number of best clusters\n",
        "data = temp\n",
        "\n",
        "\n",
        "data.drop(['utc_timestamp', 'Pack_ID', 'User_ID' , 'CountryCode','Player Level'], axis =1 , inplace = True)\n",
        "data.head()\n",
        "\n",
        "mms = MinMaxScaler()\n",
        "#mms.fit(data)\n",
        "data_transformed = mms.fit_transform(data)\n",
        "\n",
        "Sum_of_squared_distances = []\n",
        "K = range(1,10 )\n",
        "for k in K:\n",
        "    km = KMeans(n_clusters=k)\n",
        "    km = km.fit(data_transformed)\n",
        "    Sum_of_squared_distances.append(km.inertia_)\n",
        "\n",
        "plt.plot(K, Sum_of_squared_distances, 'bx-')\n",
        "plt.xlabel('k')\n",
        "plt.ylabel('Sum_of_squared_distances')\n",
        "plt.title('Elbow Method For Optimal k')\n",
        "plt.show()"
      ],
      "execution_count": 0,
      "outputs": [
        {
          "output_type": "display_data",
          "data": {
            "image/png": "[encoded data removed]",
            "text/plain": [
              "<Figure size 432x288 with 1 Axes>"
            ]
          },
          "metadata": {
            "tags": []
          }
        }
      ]
    },
    {
      "cell_type": "markdown",
      "metadata": {
        "id": "bQPNAvzBF3mB",
        "colab_type": "text"
      },
      "source": [
        "Here we can see that k =5 "
      ]
    },
    {
      "cell_type": "code",
      "metadata": {
        "id": "MmyAII2HF7wz",
        "colab_type": "code",
        "colab": {}
      },
      "source": [
        "\n",
        "kmeans = KMeans(n_clusters=5, init='k-means++', max_iter=100, n_init=10, random_state=0)\n",
        "pred_y = kmeans.fit_predict(data)\n"
      ],
      "execution_count": 0,
      "outputs": []
    },
    {
      "cell_type": "code",
      "metadata": {
        "id": "uTpFAVI93qt9",
        "colab_type": "code",
        "outputId": "60fa51f6-2ca9-406a-a951-992f0340ea55",
        "colab": {
          "base_uri": "https://localhost:8080/",
          "height": 108
        }
      },
      "source": [
        "kmeans.cluster_centers_"
      ],
      "execution_count": 0,
      "outputs": [
        {
          "output_type": "execute_result",
          "data": {
            "text/plain": [
              "array([[ 228.09205471],\n",
              "       [1452.35415668],\n",
              "       [7443.18721461],\n",
              "       [ 733.3120385 ],\n",
              "       [3086.17155928]])"
            ]
          },
          "metadata": {
            "tags": []
          },
          "execution_count": 36
        }
      ]
    },
    {
      "cell_type": "code",
      "metadata": {
        "id": "HpEMAt7O8woP",
        "colab_type": "code",
        "outputId": "3efbd60c-1c96-43e5-e0a5-4131c3de8e66",
        "colab": {
          "base_uri": "https://localhost:8080/",
          "height": 35
        }
      },
      "source": [
        "pred_y"
      ],
      "execution_count": 0,
      "outputs": [
        {
          "output_type": "execute_result",
          "data": {
            "text/plain": [
              "array([0, 0, 3, ..., 0, 0, 0], dtype=int32)"
            ]
          },
          "metadata": {
            "tags": []
          },
          "execution_count": 58
        }
      ]
    },
    {
      "cell_type": "markdown",
      "metadata": {
        "id": "EWNVFKAC44IM",
        "colab_type": "text"
      },
      "source": [
        "## **with respect to PLayer_level, Package_ID and country code.**"
      ]
    },
    {
      "cell_type": "code",
      "metadata": {
        "id": "v4fjmkBuyN8A",
        "colab_type": "code",
        "colab": {}
      },
      "source": [
        "data = temp"
      ],
      "execution_count": 0,
      "outputs": []
    },
    {
      "cell_type": "code",
      "metadata": {
        "id": "k_Y_3wBbyRS4",
        "colab_type": "code",
        "colab": {}
      },
      "source": [
        "data.drop([\"utc_timestamp\" , \"User_ID\" ,\"Revenue\" ], axis= 1, inplace = True)"
      ],
      "execution_count": 0,
      "outputs": []
    },
    {
      "cell_type": "code",
      "metadata": {
        "id": "eyIoEQZtyiyY",
        "colab_type": "code",
        "outputId": "07d29c82-68a6-42b4-c9b7-59fe0ac832f7",
        "colab": {
          "base_uri": "https://localhost:8080/",
          "height": 138
        }
      },
      "source": [
        "data.head(3)"
      ],
      "execution_count": 0,
      "outputs": [
        {
          "output_type": "execute_result",
          "data": {
            "text/html": [
              "<div>\n",
              "<style scoped>\n",
              "    .dataframe tbody tr th:only-of-type {\n",
              "        vertical-align: middle;\n",
              "    }\n",
              "\n",
              "    .dataframe tbody tr th {\n",
              "        vertical-align: top;\n",
              "    }\n",
              "\n",
              "    .dataframe thead th {\n",
              "        text-align: right;\n",
              "    }\n",
              "</style>\n",
              "<table border=\"1\" class=\"dataframe\">\n",
              "  <thead>\n",
              "    <tr style=\"text-align: right;\">\n",
              "      <th></th>\n",
              "      <th>Player Level</th>\n",
              "      <th>Pack_ID</th>\n",
              "      <th>CountryCode</th>\n",
              "    </tr>\n",
              "  </thead>\n",
              "  <tbody>\n",
              "    <tr>\n",
              "      <th>0</th>\n",
              "      <td>14</td>\n",
              "      <td>bundle3b</td>\n",
              "      <td>fr</td>\n",
              "    </tr>\n",
              "    <tr>\n",
              "      <th>1</th>\n",
              "      <td>51</td>\n",
              "      <td>vipoffer1</td>\n",
              "      <td>VE</td>\n",
              "    </tr>\n",
              "    <tr>\n",
              "      <th>2</th>\n",
              "      <td>49</td>\n",
              "      <td>goldentickets2</td>\n",
              "      <td>GB</td>\n",
              "    </tr>\n",
              "  </tbody>\n",
              "</table>\n",
              "</div>"
            ],
            "text/plain": [
              "   Player Level         Pack_ID CountryCode\n",
              "0            14        bundle3b          fr\n",
              "1            51       vipoffer1          VE\n",
              "2            49  goldentickets2          GB"
            ]
          },
          "metadata": {
            "tags": []
          },
          "execution_count": 51
        }
      ]
    },
    {
      "cell_type": "code",
      "metadata": {
        "id": "HxDs7xL_ykQ4",
        "colab_type": "code",
        "colab": {}
      },
      "source": [
        "from sklearn import preprocessing\n",
        "for each in data.columns:\n",
        "  le = preprocessing.LabelEncoder()\n",
        "  data[each] = le.fit_transform(data[each].to_list())"
      ],
      "execution_count": 0,
      "outputs": []
    },
    {
      "cell_type": "code",
      "metadata": {
        "id": "Y2FUbnugy-X4",
        "colab_type": "code",
        "outputId": "666f3a84-be70-48f8-9b9c-74adcb40d954",
        "colab": {
          "base_uri": "https://localhost:8080/",
          "height": 295
        }
      },
      "source": [
        "mms = MinMaxScaler()\n",
        "#mms.fit(data)\n",
        "data_transformed = mms.fit_transform(data)\n",
        "\n",
        "Sum_of_squared_distances = []\n",
        "K = range(1,10 )\n",
        "for k in K:\n",
        "    km = KMeans(n_clusters=k)\n",
        "    km = km.fit(data_transformed)\n",
        "    Sum_of_squared_distances.append(km.inertia_)\n",
        "\n",
        "plt.plot(K, Sum_of_squared_distances, 'bx-')\n",
        "plt.xlabel('k')\n",
        "plt.ylabel('Sum_of_squared_distances')\n",
        "plt.title('Elbow Method For Optimal k')\n",
        "plt.show()"
      ],
      "execution_count": 0,
      "outputs": [
        {
          "output_type": "display_data",
          "data": {
            "image/png": "[encoded data removed]",
            "text/plain": [
              "<Figure size 432x288 with 1 Axes>"
            ]
          },
          "metadata": {
            "tags": []
          }
        }
      ]
    },
    {
      "cell_type": "code",
      "metadata": {
        "colab_type": "code",
        "id": "DfHllQNZ8lbX",
        "colab": {}
      },
      "source": [
        "kmeans = KMeans(n_clusters=4, init='k-means++', max_iter=100, n_init=10, random_state=0)\n",
        "pred_y = kmeans.fit_predict(data)\n"
      ],
      "execution_count": 0,
      "outputs": []
    },
    {
      "cell_type": "code",
      "metadata": {
        "id": "Pm4GNP-E5sIn",
        "colab_type": "code",
        "outputId": "9db96b74-ebc0-4f7d-ee86-e100fb53036f",
        "colab": {
          "base_uri": "https://localhost:8080/",
          "height": 35
        }
      },
      "source": [
        "pred_y"
      ],
      "execution_count": 0,
      "outputs": [
        {
          "output_type": "execute_result",
          "data": {
            "text/plain": [
              "array([0, 0, 3, ..., 0, 0, 0], dtype=int32)"
            ]
          },
          "metadata": {
            "tags": []
          },
          "execution_count": 55
        }
      ]
    },
    {
      "cell_type": "code",
      "metadata": {
        "id": "e9VaXA1q5xc-",
        "colab_type": "code",
        "outputId": "1d203fb7-976c-411f-bf1e-4b38833743fd",
        "colab": {
          "base_uri": "https://localhost:8080/",
          "height": 90
        }
      },
      "source": [
        "kmeans.cluster_centers_"
      ],
      "execution_count": 0,
      "outputs": [
        {
          "output_type": "execute_result",
          "data": {
            "text/plain": [
              "array([[ 28.25335568,  14.28819768, 132.58143664],\n",
              "       [ 16.37608373,   9.59625547,  32.93852696],\n",
              "       [ 26.98345894,  14.03650778, 219.18968386],\n",
              "       [ 40.762017  ,  18.36649341,  41.15137596]])"
            ]
          },
          "metadata": {
            "tags": []
          },
          "execution_count": 56
        }
      ]
    }
  ]
}